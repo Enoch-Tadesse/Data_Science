{
 "cells": [
  {
   "cell_type": "code",
   "execution_count": 1,
   "metadata": {},
   "outputs": [],
   "source": [
    "import aiohttp\n",
    "import asyncio\n",
    "import pandas as pd\n",
    "from dotenv import load_dotenv\n",
    "import os\n",
    "import numpy as np"
   ]
  },
  {
   "cell_type": "code",
   "execution_count": 2,
   "metadata": {},
   "outputs": [],
   "source": [
    "load_dotenv()\n",
    "read_access = os.getenv(\"Read_Access_Token\")\n",
    "API = os.getenv(\"API\")"
   ]
  },
  {
   "cell_type": "code",
   "execution_count": 3,
   "metadata": {},
   "outputs": [],
   "source": [
    "df = pd.read_csv(\"./movies.csv\")"
   ]
  },
  {
   "cell_type": "code",
   "execution_count": 4,
   "metadata": {},
   "outputs": [],
   "source": [
    "ids = np.array(df['id'])\n",
    "ids = ids.astype(str)\n"
   ]
  },
  {
   "cell_type": "code",
   "execution_count": 5,
   "metadata": {},
   "outputs": [],
   "source": [
    "async def gather_calls(movie_id,session):\n",
    "    header = {\n",
    "        'Authorization': f\"Bearer {read_access}\",\n",
    "        'accept': \"application/json\"\n",
    "    }\n",
    "    url = f\"https://api.themoviedb.org/3/movie/{movie_id}/external_ids\"\n",
    "    async with session.get(url,headers=header) as response:\n",
    "        try:\n",
    "            if response.status == 200:\n",
    "                data = await response.json()\n",
    "                return pd.DataFrame([data])\n",
    "            return pd.DataFrame()\n",
    "        except Exception as e:\n",
    "            print(f\"{e} on movieid {movie_id}\")\n",
    "            return pd.DataFrame()"
   ]
  },
  {
   "cell_type": "code",
   "execution_count": 6,
   "metadata": {},
   "outputs": [],
   "source": [
    "async def fetch_all_data(movie_ids):\n",
    "    async with aiohttp.ClientSession() as session:\n",
    "        tasks = list()\n",
    "        for movie_id in movie_ids:\n",
    "            tasks.append(asyncio.create_task(gather_calls(movie_id,session)))\n",
    "        results = await asyncio.gather(*tasks)\n",
    "        return pd.concat(results,ignore_index=True)\n"
   ]
  },
  {
   "cell_type": "code",
   "execution_count": 7,
   "metadata": {},
   "outputs": [],
   "source": [
    "data = await fetch_all_data(ids)"
   ]
  },
  {
   "cell_type": "code",
   "execution_count": 8,
   "metadata": {},
   "outputs": [],
   "source": [
    "data.to_csv(\"movies_id.csv\")"
   ]
  },
  {
   "cell_type": "code",
   "execution_count": null,
   "metadata": {},
   "outputs": [],
   "source": []
  }
 ],
 "metadata": {
  "kernelspec": {
   "display_name": "movies",
   "language": "python",
   "name": "python3"
  },
  "language_info": {
   "codemirror_mode": {
    "name": "ipython",
    "version": 3
   },
   "file_extension": ".py",
   "mimetype": "text/x-python",
   "name": "python",
   "nbconvert_exporter": "python",
   "pygments_lexer": "ipython3",
   "version": "3.13.0"
  }
 },
 "nbformat": 4,
 "nbformat_minor": 2
}
